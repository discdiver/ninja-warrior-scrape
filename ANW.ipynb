{
 "cells": [
  {
   "cell_type": "markdown",
   "metadata": {},
   "source": [
    "# American Ninja Warrior Scraping and Visualization\n",
    "\n",
    "## By: Jeff Hale"
   ]
  },
  {
   "cell_type": "markdown",
   "metadata": {},
   "source": [
    "## Plan\n",
    "\n",
    "### Scrape American Ninja Warrior (ANW) contestant data over several years, combine the data into a DataFrame, and do some exploratory visual analysis."
   ]
  },
  {
   "cell_type": "markdown",
   "metadata": {},
   "source": [
    "## Background\n",
    "[American Ninja Warrior](https://www.nbc.com/american-ninja-warrior) is a televised competition in whih contestents try to complete a serious of obstacles as quickly as possible, without falling. My kids love watching the show. Who knew it's been nominated for 3 Emmys?\n",
    "\n",
    "Ten-time ninja warrior Matt Laessig also happens to lead [data.world](https://data.world), which offers a platform with data sets and an interface for data analysis. The platform has a data set on the obstacles and a link to a [Fantasy American Ninja Warrior](http://www.anwfantasy.com/members/contestants/season10.php) website that provides info about contestant results. \n",
    "\n",
    "Data for seasons 1 through 10 is on the website. In seasons 4 through 10 the show followed a similar format. Those are also the most recent seasons, so we'll focus on those. \n",
    "\n",
    "Let's get to it!"
   ]
  },
  {
   "cell_type": "markdown",
   "metadata": {},
   "source": [
    "## Set-up\n",
    "Load the necessary libraries.\n",
    "Configure the Jupyter Notebook settings.\n",
    "Load the data into a pandas DataFrame."
   ]
  },
  {
   "cell_type": "code",
   "execution_count": 1,
   "metadata": {},
   "outputs": [],
   "source": [
    "# essentials\n",
    "import numpy as np \n",
    "import pandas as pd \n",
    "\n",
    "# visualizations\n",
    "import matplotlib.pyplot as plt\n",
    "import seaborn as sns\n",
    "\n",
    "# scraping\n",
    "import requests\n",
    "from bs4 import BeautifulSoup as bs \n",
    "\n",
    "# reproducibility\n",
    "np.random.seed(34)\n",
    "\n",
    "# Jupyter magic\n",
    "%reload_ext autoreload\n",
    "%autoreload 2\n",
    "%matplotlib inline\n",
    "\n",
    "sns.set()"
   ]
  },
  {
   "cell_type": "code",
   "execution_count": 2,
   "metadata": {},
   "outputs": [],
   "source": [
    "# !ls              # list the file in the working directory"
   ]
  },
  {
   "cell_type": "code",
   "execution_count": 3,
   "metadata": {},
   "outputs": [],
   "source": [
    "# !pip list      # list the package version numbers for reproducibiity"
   ]
  },
  {
   "cell_type": "markdown",
   "metadata": {},
   "source": [
    "We might get some predictive benefit if we could evaluate the affect of the completion rate of an obstacle has on its future inclusion. There is a site we could scrape that should give us that info (http://www.anwfantasy.com/members/contestants/season10.php)."
   ]
  },
  {
   "cell_type": "markdown",
   "metadata": {},
   "source": [
    "## Scrape contestant obstacle failure data"
   ]
  },
  {
   "cell_type": "markdown",
   "metadata": {},
   "source": [
    "Let's use Beautiful Soup with the requests package to scrape data from the anwfantasy.com site. \n",
    "\n",
    "We'll scrape with the lxml parser because it's faster than the default html parser. You'll need to have lxml installed to use that parser. See the [Beatiful Soup docs]( https://www.crummy.com/software/BeautifulSoup/bs4/doc/#installing-a-parser)."
   ]
  },
  {
   "cell_type": "code",
   "execution_count": 4,
   "metadata": {},
   "outputs": [],
   "source": [
    "result = requests.get(\"http://www.anwfantasy.com/members/contestants/season4.php\")\n",
    "c = result.content\n",
    "soup = bs(c)"
   ]
  },
  {
   "cell_type": "code",
   "execution_count": null,
   "metadata": {},
   "outputs": [
    {
     "data": {
      "text/plain": [
       "<a class=\"navbar-brand\" href=\"/\" style=\"margin-top:0px; padding-top:0px; background:none;\"><img class=\"img img-responsive\" src=\"/images/img-logo.png\" style=\"max-width:130px;\"/></a>"
      ]
     },
     "execution_count": 5,
     "metadata": {},
     "output_type": "execute_result"
    }
   ],
   "source": [
    "soup.find(\"a\")"
   ]
  },
  {
   "cell_type": "markdown",
   "metadata": {},
   "source": [
    "Alright, we're in! We were able to scrape a link as a test. Now let's get some data. We need to find out what page element, css class, or id we can latch onto to retrieve the data we need. \n",
    "\n",
    "Inspecting the code with Chrome (right click and select *Inspect*) shows that we want table row data ('tr')."
   ]
  },
  {
   "cell_type": "code",
   "execution_count": null,
   "metadata": {},
   "outputs": [
    {
     "data": {
      "text/plain": [
       "[<tr><th class=\"headerSlim\" style=\"text-align:center\" width=\"200\"> </th>\n",
       " <th class=\"headerSlim\" style=\"text-align:center\" width=\"200\"> </th>\n",
       " <th class=\"headerSlim\" colspan=\"2\" style=\"text-align:left;\"><div style=\"border-bottom:solid 1px #307DBE; width:99%; padding-left:15px;\">city qualifier</div></th>\n",
       " <th class=\"headerSlim\" colspan=\"2\" style=\"text-align:left; \"><div style=\"border-bottom:solid 1px #307DBE; width:99%; padding-left:15px;\">city final</div></th>\n",
       " <th class=\"headerSlim\" colspan=\"2\" style=\"text-align:left; \"><div style=\"border-bottom:solid 1px #307DBE; width:99%; padding-left:15px;\">stage 1</div></th>\n",
       " <th class=\"headerSlim\" colspan=\"2\" style=\"text-align:left; \"><div style=\"border-bottom:solid 1px #307DBE; width:99%; padding-left:15px;\">stage 2</div></th>\n",
       " <th class=\"headerSlim\" colspan=\"2\" style=\"text-align:left; \"><div style=\"border-bottom:solid 1px #307DBE; width:99%; padding-left:15px;\">stage 3</div></th>\n",
       " </tr>, <tr>\n",
       " <th class=\"header\" style=\"width:250px\">Name                                    </th>\n",
       " <th class=\"header\" style=\"text-align:center\">Fantasy Points</th>\n",
       " <th class=\"header\" style=\"text-align:center\">Obstacle Failed</th>\n",
       " <th class=\"header\" style=\"text-align:center\">Completion Time(s)</th>\n",
       " <th class=\"header\" style=\"text-align:center\">Obstacle Failed</th>\n",
       " <th class=\"header\" style=\"text-align:center\">Completion Time(s)</th>\n",
       " <th class=\"header\" style=\"text-align:center\">Obstacle Failed</th>\n",
       " <th class=\"header\" style=\"text-align:center\">Completion Time(s)</th>\n",
       " <th class=\"header\" style=\"text-align:center\">Obstacle Failed</th>\n",
       " <th class=\"header\" style=\"text-align:center\">Completion Time(s)</th>\n",
       " <th class=\"header\" style=\"text-align:center\">Obstacle Failed</th>\n",
       " </tr>, <tr>\n",
       " <th class=\"searchable midori\">David Campbell</th>\n",
       " <td class=\"searchable\" style=\"text-align:center\">27.5</td>\n",
       " <td class=\"searchable\" style=\"text-align:center\">complete (nw)</td>\n",
       " <td class=\"searchable\" style=\"text-align:center\">58.55</td>\n",
       " <td class=\"searchable\" style=\"text-align:center\">complete (nw)</td>\n",
       " <td class=\"searchable\" style=\"text-align:center\">163.7</td>\n",
       " <td class=\"searchable\" style=\"text-align:center\">Spinning Bridge</td>\n",
       " <td class=\"searchable\" style=\"text-align:center\"></td>\n",
       " <td class=\"searchable\" style=\"text-align:center\"></td>\n",
       " <td class=\"searchable\" style=\"text-align:center\"></td>\n",
       " <td class=\"searchable\" style=\"text-align:center\"></td>\n",
       " </tr>, <tr>\n",
       " <th class=\"searchable midori\">Paul Kasemir</th>\n",
       " <td class=\"searchable\" style=\"text-align:center\">39</td>\n",
       " <td class=\"searchable\" style=\"text-align:center\">complete (ms)</td>\n",
       " <td class=\"searchable\" style=\"text-align:center\">53.99</td>\n",
       " <td class=\"searchable\" style=\"text-align:center\">complete (ms)</td>\n",
       " <td class=\"searchable\" style=\"text-align:center\">143.22</td>\n",
       " <td class=\"searchable\" style=\"text-align:center\">Complete</td>\n",
       " <td class=\"searchable\" style=\"text-align:center\">98.29</td>\n",
       " <td class=\"searchable\" style=\"text-align:center\">Metal Spin</td>\n",
       " <td class=\"searchable\" style=\"text-align:center\"></td>\n",
       " <td class=\"searchable\" style=\"text-align:center\"></td>\n",
       " </tr>, <tr>\n",
       " <th class=\"searchable midori\">Travis Rosen</th>\n",
       " <td class=\"searchable\" style=\"text-align:center\">39</td>\n",
       " <td class=\"searchable\" style=\"text-align:center\">complete (se)</td>\n",
       " <td class=\"searchable\" style=\"text-align:center\">76.26</td>\n",
       " <td class=\"searchable\" style=\"text-align:center\">complete (se)</td>\n",
       " <td class=\"searchable\" style=\"text-align:center\">132.44</td>\n",
       " <td class=\"searchable\" style=\"text-align:center\">Complete</td>\n",
       " <td class=\"searchable\" style=\"text-align:center\">101</td>\n",
       " <td class=\"searchable\" style=\"text-align:center\">Balance Tank</td>\n",
       " <td class=\"searchable\" style=\"text-align:center\"></td>\n",
       " <td class=\"searchable\" style=\"text-align:center\"></td>\n",
       " </tr>]"
      ]
     },
     "execution_count": 6,
     "metadata": {},
     "output_type": "execute_result"
    }
   ],
   "source": [
    "table_rows = soup.find_all('tr')\n",
    "table_rows[:5]"
   ]
  },
  {
   "cell_type": "markdown",
   "metadata": {},
   "source": [
    "Let's loop through the table rows to get all the \"td\"s."
   ]
  },
  {
   "cell_type": "code",
   "execution_count": null,
   "metadata": {},
   "outputs": [],
   "source": [
    "data_4 = []\n",
    "\n",
    "for tr in table_rows:\n",
    "    td = tr.find_all( 'td')\n",
    "    row = [tr.text for tr in td]\n",
    "    data_4.append(row)\n",
    "    \n",
    "df_s4 = pd.DataFrame(data_4, columns=[\n",
    "    'fantasy_points', \n",
    "    'city_q_fail', \n",
    "    'city_q_time',\n",
    "    'city_f_fail', \n",
    "    'city_f_time',\n",
    "    'stage1_fail', \n",
    "    'stage1_time',\n",
    "    'stage2_fail', \n",
    "    'stage2_time',\n",
    "    'stage3_fail',\n",
    "])"
   ]
  },
  {
   "cell_type": "markdown",
   "metadata": {},
   "source": [
    "Let's add a column for stage4 that occurs in some later years. Let's also add a column to keep track of the year."
   ]
  },
  {
   "cell_type": "code",
   "execution_count": null,
   "metadata": {},
   "outputs": [],
   "source": [
    "df_s4['stage4_fail'] = np.NaN\n",
    "df_s4['year'] = 4"
   ]
  },
  {
   "cell_type": "code",
   "execution_count": null,
   "metadata": {},
   "outputs": [
    {
     "data": {
      "text/html": [
       "<div>\n",
       "<style scoped>\n",
       "    .dataframe tbody tr th:only-of-type {\n",
       "        vertical-align: middle;\n",
       "    }\n",
       "\n",
       "    .dataframe tbody tr th {\n",
       "        vertical-align: top;\n",
       "    }\n",
       "\n",
       "    .dataframe thead th {\n",
       "        text-align: right;\n",
       "    }\n",
       "</style>\n",
       "<table border=\"1\" class=\"dataframe\">\n",
       "  <thead>\n",
       "    <tr style=\"text-align: right;\">\n",
       "      <th></th>\n",
       "      <th>fantasy_points</th>\n",
       "      <th>city_q_fail</th>\n",
       "      <th>city_q_time</th>\n",
       "      <th>city_f_fail</th>\n",
       "      <th>city_f_time</th>\n",
       "      <th>stage1_fail</th>\n",
       "      <th>stage1_time</th>\n",
       "      <th>stage2_fail</th>\n",
       "      <th>stage2_time</th>\n",
       "      <th>stage3_fail</th>\n",
       "      <th>stage4_fail</th>\n",
       "      <th>year</th>\n",
       "    </tr>\n",
       "  </thead>\n",
       "  <tbody>\n",
       "    <tr>\n",
       "      <th>0</th>\n",
       "      <td>None</td>\n",
       "      <td>None</td>\n",
       "      <td>None</td>\n",
       "      <td>None</td>\n",
       "      <td>None</td>\n",
       "      <td>None</td>\n",
       "      <td>None</td>\n",
       "      <td>None</td>\n",
       "      <td>None</td>\n",
       "      <td>None</td>\n",
       "      <td>NaN</td>\n",
       "      <td>4</td>\n",
       "    </tr>\n",
       "    <tr>\n",
       "      <th>1</th>\n",
       "      <td>None</td>\n",
       "      <td>None</td>\n",
       "      <td>None</td>\n",
       "      <td>None</td>\n",
       "      <td>None</td>\n",
       "      <td>None</td>\n",
       "      <td>None</td>\n",
       "      <td>None</td>\n",
       "      <td>None</td>\n",
       "      <td>None</td>\n",
       "      <td>NaN</td>\n",
       "      <td>4</td>\n",
       "    </tr>\n",
       "    <tr>\n",
       "      <th>2</th>\n",
       "      <td>27.5</td>\n",
       "      <td>complete (nw)</td>\n",
       "      <td>58.55</td>\n",
       "      <td>complete (nw)</td>\n",
       "      <td>163.7</td>\n",
       "      <td>Spinning Bridge</td>\n",
       "      <td></td>\n",
       "      <td></td>\n",
       "      <td></td>\n",
       "      <td></td>\n",
       "      <td>NaN</td>\n",
       "      <td>4</td>\n",
       "    </tr>\n",
       "    <tr>\n",
       "      <th>3</th>\n",
       "      <td>39</td>\n",
       "      <td>complete (ms)</td>\n",
       "      <td>53.99</td>\n",
       "      <td>complete (ms)</td>\n",
       "      <td>143.22</td>\n",
       "      <td>Complete</td>\n",
       "      <td>98.29</td>\n",
       "      <td>Metal Spin</td>\n",
       "      <td></td>\n",
       "      <td></td>\n",
       "      <td>NaN</td>\n",
       "      <td>4</td>\n",
       "    </tr>\n",
       "    <tr>\n",
       "      <th>4</th>\n",
       "      <td>39</td>\n",
       "      <td>complete (se)</td>\n",
       "      <td>76.26</td>\n",
       "      <td>complete (se)</td>\n",
       "      <td>132.44</td>\n",
       "      <td>Complete</td>\n",
       "      <td>101</td>\n",
       "      <td>Balance Tank</td>\n",
       "      <td></td>\n",
       "      <td></td>\n",
       "      <td>NaN</td>\n",
       "      <td>4</td>\n",
       "    </tr>\n",
       "  </tbody>\n",
       "</table>\n",
       "</div>"
      ],
      "text/plain": [
       "  fantasy_points    city_q_fail city_q_time    city_f_fail city_f_time  \\\n",
       "0           None           None        None           None        None   \n",
       "1           None           None        None           None        None   \n",
       "2           27.5  complete (nw)       58.55  complete (nw)       163.7   \n",
       "3             39  complete (ms)       53.99  complete (ms)      143.22   \n",
       "4             39  complete (se)       76.26  complete (se)      132.44   \n",
       "\n",
       "       stage1_fail stage1_time   stage2_fail stage2_time stage3_fail  \\\n",
       "0             None        None          None        None        None   \n",
       "1             None        None          None        None        None   \n",
       "2  Spinning Bridge                                                     \n",
       "3         Complete       98.29    Metal Spin                           \n",
       "4         Complete         101  Balance Tank                           \n",
       "\n",
       "   stage4_fail  year  \n",
       "0          NaN     4  \n",
       "1          NaN     4  \n",
       "2          NaN     4  \n",
       "3          NaN     4  \n",
       "4          NaN     4  "
      ]
     },
     "execution_count": 9,
     "metadata": {},
     "output_type": "execute_result"
    }
   ],
   "source": [
    "df_s4.head()"
   ]
  },
  {
   "cell_type": "markdown",
   "metadata": {},
   "source": [
    "Let's select all the rows other than the first two rows that contained header info, because we made our own shortened column names already. Let's reset the index, so it starts with 0, too."
   ]
  },
  {
   "cell_type": "code",
   "execution_count": null,
   "metadata": {},
   "outputs": [
    {
     "data": {
      "text/html": [
       "<div>\n",
       "<style scoped>\n",
       "    .dataframe tbody tr th:only-of-type {\n",
       "        vertical-align: middle;\n",
       "    }\n",
       "\n",
       "    .dataframe tbody tr th {\n",
       "        vertical-align: top;\n",
       "    }\n",
       "\n",
       "    .dataframe thead th {\n",
       "        text-align: right;\n",
       "    }\n",
       "</style>\n",
       "<table border=\"1\" class=\"dataframe\">\n",
       "  <thead>\n",
       "    <tr style=\"text-align: right;\">\n",
       "      <th></th>\n",
       "      <th>fantasy_points</th>\n",
       "      <th>city_q_fail</th>\n",
       "      <th>city_q_time</th>\n",
       "      <th>city_f_fail</th>\n",
       "      <th>city_f_time</th>\n",
       "      <th>stage1_fail</th>\n",
       "      <th>stage1_time</th>\n",
       "      <th>stage2_fail</th>\n",
       "      <th>stage2_time</th>\n",
       "      <th>stage3_fail</th>\n",
       "      <th>stage4_fail</th>\n",
       "      <th>year</th>\n",
       "    </tr>\n",
       "  </thead>\n",
       "  <tbody>\n",
       "    <tr>\n",
       "      <th>0</th>\n",
       "      <td>27.5</td>\n",
       "      <td>complete (nw)</td>\n",
       "      <td>58.55</td>\n",
       "      <td>complete (nw)</td>\n",
       "      <td>163.7</td>\n",
       "      <td>Spinning Bridge</td>\n",
       "      <td></td>\n",
       "      <td></td>\n",
       "      <td></td>\n",
       "      <td></td>\n",
       "      <td>NaN</td>\n",
       "      <td>4</td>\n",
       "    </tr>\n",
       "    <tr>\n",
       "      <th>1</th>\n",
       "      <td>39</td>\n",
       "      <td>complete (ms)</td>\n",
       "      <td>53.99</td>\n",
       "      <td>complete (ms)</td>\n",
       "      <td>143.22</td>\n",
       "      <td>Complete</td>\n",
       "      <td>98.29</td>\n",
       "      <td>Metal Spin</td>\n",
       "      <td></td>\n",
       "      <td></td>\n",
       "      <td>NaN</td>\n",
       "      <td>4</td>\n",
       "    </tr>\n",
       "    <tr>\n",
       "      <th>2</th>\n",
       "      <td>39</td>\n",
       "      <td>complete (se)</td>\n",
       "      <td>76.26</td>\n",
       "      <td>complete (se)</td>\n",
       "      <td>132.44</td>\n",
       "      <td>Complete</td>\n",
       "      <td>101</td>\n",
       "      <td>Balance Tank</td>\n",
       "      <td></td>\n",
       "      <td></td>\n",
       "      <td>NaN</td>\n",
       "      <td>4</td>\n",
       "    </tr>\n",
       "    <tr>\n",
       "      <th>3</th>\n",
       "      <td>51.5</td>\n",
       "      <td>complete (sw)</td>\n",
       "      <td>50.15</td>\n",
       "      <td>complete (sw)</td>\n",
       "      <td>198.03</td>\n",
       "      <td>Complete</td>\n",
       "      <td>91</td>\n",
       "      <td>Complete</td>\n",
       "      <td>104.97</td>\n",
       "      <td>Hang Climb</td>\n",
       "      <td>NaN</td>\n",
       "      <td>4</td>\n",
       "    </tr>\n",
       "    <tr>\n",
       "      <th>4</th>\n",
       "      <td>38</td>\n",
       "      <td>complete (se)</td>\n",
       "      <td>62.24</td>\n",
       "      <td>complete (se)</td>\n",
       "      <td>124.1</td>\n",
       "      <td>Complete</td>\n",
       "      <td>96.08</td>\n",
       "      <td>Unstable Bridge</td>\n",
       "      <td></td>\n",
       "      <td></td>\n",
       "      <td>NaN</td>\n",
       "      <td>4</td>\n",
       "    </tr>\n",
       "  </tbody>\n",
       "</table>\n",
       "</div>"
      ],
      "text/plain": [
       "  fantasy_points    city_q_fail city_q_time    city_f_fail city_f_time  \\\n",
       "0           27.5  complete (nw)       58.55  complete (nw)       163.7   \n",
       "1             39  complete (ms)       53.99  complete (ms)      143.22   \n",
       "2             39  complete (se)       76.26  complete (se)      132.44   \n",
       "3           51.5  complete (sw)       50.15  complete (sw)      198.03   \n",
       "4             38  complete (se)       62.24  complete (se)       124.1   \n",
       "\n",
       "       stage1_fail stage1_time      stage2_fail stage2_time stage3_fail  \\\n",
       "0  Spinning Bridge                                                        \n",
       "1         Complete       98.29       Metal Spin                           \n",
       "2         Complete         101     Balance Tank                           \n",
       "3         Complete          91         Complete      104.97  Hang Climb   \n",
       "4         Complete       96.08  Unstable Bridge                           \n",
       "\n",
       "   stage4_fail  year  \n",
       "0          NaN     4  \n",
       "1          NaN     4  \n",
       "2          NaN     4  \n",
       "3          NaN     4  \n",
       "4          NaN     4  "
      ]
     },
     "execution_count": 10,
     "metadata": {},
     "output_type": "execute_result"
    }
   ],
   "source": [
    "df_s4 = df_s4.iloc[2:]\n",
    "df_s4.reset_index(drop=True, inplace=True)\n",
    "df_s4.head()"
   ]
  },
  {
   "cell_type": "markdown",
   "metadata": {},
   "source": [
    "Now let's scrape the contestant names. They are stored in \"<th>\" elements. We'll use a for loop to loop through the table rows again. We'll make a list of lists and append the contestant data to the *data_4_contestants* list.\n",
    "\n",
    "Then, as a check, we'll display the first few rows to make sure things look as expected. "
   ]
  },
  {
   "cell_type": "code",
   "execution_count": null,
   "metadata": {},
   "outputs": [
    {
     "data": {
      "text/plain": [
       "[['\\xa0',\n",
       "  '\\xa0',\n",
       "  'city qualifier',\n",
       "  'city final',\n",
       "  'stage 1',\n",
       "  'stage 2',\n",
       "  'stage 3'],\n",
       " ['Name\\xa0\\xa0\\xa0\\xa0\\xa0\\xa0\\xa0\\xa0\\xa0\\xa0\\xa0\\xa0\\xa0\\xa0\\xa0\\xa0\\xa0\\xa0\\xa0\\xa0\\xa0\\xa0\\xa0\\xa0\\xa0\\xa0\\xa0\\xa0\\xa0\\xa0\\xa0\\xa0\\xa0\\xa0\\xa0\\xa0',\n",
       "  'Fantasy Points',\n",
       "  'Obstacle Failed',\n",
       "  'Completion Time(s)',\n",
       "  'Obstacle Failed',\n",
       "  'Completion Time(s)',\n",
       "  'Obstacle Failed',\n",
       "  'Completion Time(s)',\n",
       "  'Obstacle Failed',\n",
       "  'Completion Time(s)',\n",
       "  'Obstacle Failed'],\n",
       " ['David Campbell'],\n",
       " ['Paul Kasemir'],\n",
       " ['Travis Rosen']]"
      ]
     },
     "execution_count": 11,
     "metadata": {},
     "output_type": "execute_result"
    }
   ],
   "source": [
    "data_4_contestants = []\n",
    "\n",
    "for tr in table_rows:\n",
    "    th = tr.find_all('th')\n",
    "    row = [tr.text for tr in th]\n",
    "    data_4_contestants.append(row)\n",
    "\n",
    "data_4_contestants[:5]"
   ]
  },
  {
   "cell_type": "markdown",
   "metadata": {},
   "source": [
    "Alrighty, looking good. Now let's drop the header columns and make a DataFrame that excludes the first two lists with header data."
   ]
  },
  {
   "cell_type": "code",
   "execution_count": null,
   "metadata": {},
   "outputs": [
    {
     "data": {
      "text/html": [
       "<div>\n",
       "<style scoped>\n",
       "    .dataframe tbody tr th:only-of-type {\n",
       "        vertical-align: middle;\n",
       "    }\n",
       "\n",
       "    .dataframe tbody tr th {\n",
       "        vertical-align: top;\n",
       "    }\n",
       "\n",
       "    .dataframe thead th {\n",
       "        text-align: right;\n",
       "    }\n",
       "</style>\n",
       "<table border=\"1\" class=\"dataframe\">\n",
       "  <thead>\n",
       "    <tr style=\"text-align: right;\">\n",
       "      <th></th>\n",
       "      <th>contestant</th>\n",
       "    </tr>\n",
       "  </thead>\n",
       "  <tbody>\n",
       "    <tr>\n",
       "      <th>0</th>\n",
       "      <td>David Campbell</td>\n",
       "    </tr>\n",
       "    <tr>\n",
       "      <th>1</th>\n",
       "      <td>Paul Kasemir</td>\n",
       "    </tr>\n",
       "    <tr>\n",
       "      <th>2</th>\n",
       "      <td>Travis Rosen</td>\n",
       "    </tr>\n",
       "    <tr>\n",
       "      <th>3</th>\n",
       "      <td>Brent Steffensen</td>\n",
       "    </tr>\n",
       "    <tr>\n",
       "      <th>4</th>\n",
       "      <td>Drew Drechsel</td>\n",
       "    </tr>\n",
       "  </tbody>\n",
       "</table>\n",
       "</div>"
      ],
      "text/plain": [
       "         contestant\n",
       "0    David Campbell\n",
       "1      Paul Kasemir\n",
       "2      Travis Rosen\n",
       "3  Brent Steffensen\n",
       "4     Drew Drechsel"
      ]
     },
     "execution_count": 12,
     "metadata": {},
     "output_type": "execute_result"
    }
   ],
   "source": [
    "df_s4_contestants = pd.DataFrame(data_4_contestants[2:], columns=['contestant'])\n",
    "df_s4_contestants.head()"
   ]
  },
  {
   "cell_type": "markdown",
   "metadata": {},
   "source": [
    "Nice! Now we have just the contestants. Let's combine the DataFrames to reunite the contestants' names with their performance."
   ]
  },
  {
   "cell_type": "code",
   "execution_count": null,
   "metadata": {},
   "outputs": [
    {
     "data": {
      "text/html": [
       "<div>\n",
       "<style scoped>\n",
       "    .dataframe tbody tr th:only-of-type {\n",
       "        vertical-align: middle;\n",
       "    }\n",
       "\n",
       "    .dataframe tbody tr th {\n",
       "        vertical-align: top;\n",
       "    }\n",
       "\n",
       "    .dataframe thead th {\n",
       "        text-align: right;\n",
       "    }\n",
       "</style>\n",
       "<table border=\"1\" class=\"dataframe\">\n",
       "  <thead>\n",
       "    <tr style=\"text-align: right;\">\n",
       "      <th></th>\n",
       "      <th>fantasy_points</th>\n",
       "      <th>city_q_fail</th>\n",
       "      <th>city_q_time</th>\n",
       "      <th>city_f_fail</th>\n",
       "      <th>city_f_time</th>\n",
       "      <th>stage1_fail</th>\n",
       "      <th>stage1_time</th>\n",
       "      <th>stage2_fail</th>\n",
       "      <th>stage2_time</th>\n",
       "      <th>stage3_fail</th>\n",
       "      <th>stage4_fail</th>\n",
       "      <th>year</th>\n",
       "      <th>contestant</th>\n",
       "    </tr>\n",
       "  </thead>\n",
       "  <tbody>\n",
       "    <tr>\n",
       "      <th>0</th>\n",
       "      <td>27.5</td>\n",
       "      <td>complete (nw)</td>\n",
       "      <td>58.55</td>\n",
       "      <td>complete (nw)</td>\n",
       "      <td>163.7</td>\n",
       "      <td>Spinning Bridge</td>\n",
       "      <td></td>\n",
       "      <td></td>\n",
       "      <td></td>\n",
       "      <td></td>\n",
       "      <td>NaN</td>\n",
       "      <td>4</td>\n",
       "      <td>David Campbell</td>\n",
       "    </tr>\n",
       "    <tr>\n",
       "      <th>1</th>\n",
       "      <td>39</td>\n",
       "      <td>complete (ms)</td>\n",
       "      <td>53.99</td>\n",
       "      <td>complete (ms)</td>\n",
       "      <td>143.22</td>\n",
       "      <td>Complete</td>\n",
       "      <td>98.29</td>\n",
       "      <td>Metal Spin</td>\n",
       "      <td></td>\n",
       "      <td></td>\n",
       "      <td>NaN</td>\n",
       "      <td>4</td>\n",
       "      <td>Paul Kasemir</td>\n",
       "    </tr>\n",
       "    <tr>\n",
       "      <th>2</th>\n",
       "      <td>39</td>\n",
       "      <td>complete (se)</td>\n",
       "      <td>76.26</td>\n",
       "      <td>complete (se)</td>\n",
       "      <td>132.44</td>\n",
       "      <td>Complete</td>\n",
       "      <td>101</td>\n",
       "      <td>Balance Tank</td>\n",
       "      <td></td>\n",
       "      <td></td>\n",
       "      <td>NaN</td>\n",
       "      <td>4</td>\n",
       "      <td>Travis Rosen</td>\n",
       "    </tr>\n",
       "    <tr>\n",
       "      <th>3</th>\n",
       "      <td>51.5</td>\n",
       "      <td>complete (sw)</td>\n",
       "      <td>50.15</td>\n",
       "      <td>complete (sw)</td>\n",
       "      <td>198.03</td>\n",
       "      <td>Complete</td>\n",
       "      <td>91</td>\n",
       "      <td>Complete</td>\n",
       "      <td>104.97</td>\n",
       "      <td>Hang Climb</td>\n",
       "      <td>NaN</td>\n",
       "      <td>4</td>\n",
       "      <td>Brent Steffensen</td>\n",
       "    </tr>\n",
       "    <tr>\n",
       "      <th>4</th>\n",
       "      <td>38</td>\n",
       "      <td>complete (se)</td>\n",
       "      <td>62.24</td>\n",
       "      <td>complete (se)</td>\n",
       "      <td>124.1</td>\n",
       "      <td>Complete</td>\n",
       "      <td>96.08</td>\n",
       "      <td>Unstable Bridge</td>\n",
       "      <td></td>\n",
       "      <td></td>\n",
       "      <td>NaN</td>\n",
       "      <td>4</td>\n",
       "      <td>Drew Drechsel</td>\n",
       "    </tr>\n",
       "  </tbody>\n",
       "</table>\n",
       "</div>"
      ],
      "text/plain": [
       "  fantasy_points    city_q_fail city_q_time    city_f_fail city_f_time  \\\n",
       "0           27.5  complete (nw)       58.55  complete (nw)       163.7   \n",
       "1             39  complete (ms)       53.99  complete (ms)      143.22   \n",
       "2             39  complete (se)       76.26  complete (se)      132.44   \n",
       "3           51.5  complete (sw)       50.15  complete (sw)      198.03   \n",
       "4             38  complete (se)       62.24  complete (se)       124.1   \n",
       "\n",
       "       stage1_fail stage1_time      stage2_fail stage2_time stage3_fail  \\\n",
       "0  Spinning Bridge                                                        \n",
       "1         Complete       98.29       Metal Spin                           \n",
       "2         Complete         101     Balance Tank                           \n",
       "3         Complete          91         Complete      104.97  Hang Climb   \n",
       "4         Complete       96.08  Unstable Bridge                           \n",
       "\n",
       "   stage4_fail  year        contestant  \n",
       "0          NaN     4    David Campbell  \n",
       "1          NaN     4      Paul Kasemir  \n",
       "2          NaN     4      Travis Rosen  \n",
       "3          NaN     4  Brent Steffensen  \n",
       "4          NaN     4     Drew Drechsel  "
      ]
     },
     "execution_count": 13,
     "metadata": {},
     "output_type": "execute_result"
    }
   ],
   "source": [
    "df_4_combo = df_s4.join(df_s4_contestants, how = \"outer\")\n",
    "df_4_combo.head()"
   ]
  },
  {
   "cell_type": "code",
   "execution_count": null,
   "metadata": {},
   "outputs": [
    {
     "data": {
      "text/html": [
       "<div>\n",
       "<style scoped>\n",
       "    .dataframe tbody tr th:only-of-type {\n",
       "        vertical-align: middle;\n",
       "    }\n",
       "\n",
       "    .dataframe tbody tr th {\n",
       "        vertical-align: top;\n",
       "    }\n",
       "\n",
       "    .dataframe thead th {\n",
       "        text-align: right;\n",
       "    }\n",
       "</style>\n",
       "<table border=\"1\" class=\"dataframe\">\n",
       "  <thead>\n",
       "    <tr style=\"text-align: right;\">\n",
       "      <th></th>\n",
       "      <th>fantasy_points</th>\n",
       "      <th>city_q_fail</th>\n",
       "      <th>city_q_time</th>\n",
       "      <th>city_f_fail</th>\n",
       "      <th>city_f_time</th>\n",
       "      <th>stage1_fail</th>\n",
       "      <th>stage1_time</th>\n",
       "      <th>stage2_fail</th>\n",
       "      <th>stage2_time</th>\n",
       "      <th>stage3_fail</th>\n",
       "      <th>stage4_fail</th>\n",
       "      <th>year</th>\n",
       "      <th>contestant</th>\n",
       "    </tr>\n",
       "  </thead>\n",
       "  <tbody>\n",
       "    <tr>\n",
       "      <th>278</th>\n",
       "      <td>0</td>\n",
       "      <td>Quad Steps (mw)</td>\n",
       "      <td></td>\n",
       "      <td></td>\n",
       "      <td></td>\n",
       "      <td></td>\n",
       "      <td></td>\n",
       "      <td></td>\n",
       "      <td></td>\n",
       "      <td></td>\n",
       "      <td>NaN</td>\n",
       "      <td>4</td>\n",
       "      <td>Jacob Reeves</td>\n",
       "    </tr>\n",
       "    <tr>\n",
       "      <th>279</th>\n",
       "      <td>0</td>\n",
       "      <td>Quad Steps (mw)</td>\n",
       "      <td></td>\n",
       "      <td></td>\n",
       "      <td></td>\n",
       "      <td></td>\n",
       "      <td></td>\n",
       "      <td></td>\n",
       "      <td></td>\n",
       "      <td></td>\n",
       "      <td>NaN</td>\n",
       "      <td>4</td>\n",
       "      <td>Doug Smith</td>\n",
       "    </tr>\n",
       "    <tr>\n",
       "      <th>280</th>\n",
       "      <td>0</td>\n",
       "      <td>Quad Steps (se)</td>\n",
       "      <td></td>\n",
       "      <td></td>\n",
       "      <td></td>\n",
       "      <td></td>\n",
       "      <td></td>\n",
       "      <td></td>\n",
       "      <td></td>\n",
       "      <td></td>\n",
       "      <td>NaN</td>\n",
       "      <td>4</td>\n",
       "      <td>Daniel Vanegas</td>\n",
       "    </tr>\n",
       "    <tr>\n",
       "      <th>281</th>\n",
       "      <td>0</td>\n",
       "      <td>Quad Steps (se)</td>\n",
       "      <td></td>\n",
       "      <td></td>\n",
       "      <td></td>\n",
       "      <td></td>\n",
       "      <td></td>\n",
       "      <td></td>\n",
       "      <td></td>\n",
       "      <td></td>\n",
       "      <td>NaN</td>\n",
       "      <td>4</td>\n",
       "      <td>Cristille Boyd</td>\n",
       "    </tr>\n",
       "    <tr>\n",
       "      <th>282</th>\n",
       "      <td>0</td>\n",
       "      <td>Quad Steps (ne)</td>\n",
       "      <td></td>\n",
       "      <td></td>\n",
       "      <td></td>\n",
       "      <td></td>\n",
       "      <td></td>\n",
       "      <td></td>\n",
       "      <td></td>\n",
       "      <td></td>\n",
       "      <td>NaN</td>\n",
       "      <td>4</td>\n",
       "      <td>Bill Schlagter</td>\n",
       "    </tr>\n",
       "  </tbody>\n",
       "</table>\n",
       "</div>"
      ],
      "text/plain": [
       "    fantasy_points      city_q_fail city_q_time city_f_fail city_f_time  \\\n",
       "278              0  Quad Steps (mw)                                       \n",
       "279              0  Quad Steps (mw)                                       \n",
       "280              0  Quad Steps (se)                                       \n",
       "281              0  Quad Steps (se)                                       \n",
       "282              0  Quad Steps (ne)                                       \n",
       "\n",
       "    stage1_fail stage1_time stage2_fail stage2_time stage3_fail  stage4_fail  \\\n",
       "278                                                                      NaN   \n",
       "279                                                                      NaN   \n",
       "280                                                                      NaN   \n",
       "281                                                                      NaN   \n",
       "282                                                                      NaN   \n",
       "\n",
       "     year       contestant  \n",
       "278     4     Jacob Reeves  \n",
       "279     4      Doug Smith   \n",
       "280     4  Daniel Vanegas   \n",
       "281     4  Cristille Boyd   \n",
       "282     4  Bill Schlagter   "
      ]
     },
     "execution_count": 14,
     "metadata": {},
     "output_type": "execute_result"
    }
   ],
   "source": [
    "df_4_combo.tail()"
   ]
  },
  {
   "cell_type": "markdown",
   "metadata": {},
   "source": [
    "Ok. Looks good. Let's name our main DataFrame \"df\" for ease of use."
   ]
  },
  {
   "cell_type": "code",
   "execution_count": null,
   "metadata": {},
   "outputs": [],
   "source": [
    "df = df_4_combo"
   ]
  },
  {
   "cell_type": "markdown",
   "metadata": {},
   "source": [
    "To get the data for years 5 through 10, let's make a loop that scrapes each year page and appends it to the DataFrame."
   ]
  },
  {
   "cell_type": "markdown",
   "metadata": {},
   "source": [
    "In Seasons 7-10 there is an extra column - \"Stage4\". We'll account for that as we're building our DataFrames.\n",
    "\n",
    "These are the fun kinds of inconsistencies in data that come up in real-world scraping problems. \n",
    "\n",
    "The cell below could take a few minutes to run as it scrapes the data.\n",
    "\n",
    "We'll also add the year as a column value."
   ]
  },
  {
   "cell_type": "code",
   "execution_count": null,
   "metadata": {},
   "outputs": [],
   "source": [
    "def scrape_year(year):\n",
    "    '''take the year as an integer and return the webpage data for ANW for that year'''\n",
    "    result = requests.get(f\"http://www.anwfantasy.com/members/contestants/season{year}.php\")\n",
    "    c = result.content\n",
    "    soup = bs(c, \"lxml\")\n",
    "    return soup\n",
    "\n",
    "    \n",
    "for year in range(5,11):\n",
    "    soup = scrape_year(year)\n",
    "    data = []\n",
    "    data_contestants = []\n",
    "    \n",
    "    table_rows = soup.find_all('tr')\n",
    "\n",
    "    for tr in table_rows:\n",
    "        \n",
    "        # find the row data other than the contestant names\n",
    "        td = tr.find_all( 'td')\n",
    "        row = [tr.text for tr in td]\n",
    "        data.append(row)\n",
    "        \n",
    "        # find the contestant names\n",
    "        th = tr.find_all('th')\n",
    "        c_row = [tr.text for tr in th]\n",
    "        data_contestants.append(c_row)\n",
    "    \n",
    "    # make DataFrame that excludes first two rows\n",
    "    \n",
    "    if year < 7:\n",
    "        df_anw = pd.DataFrame(data[2:], columns=[\n",
    "            'fantasy_points', \n",
    "            'city_q_fail', \n",
    "            'city_q_time',\n",
    "            'city_f_fail', \n",
    "            'city_f_time',\n",
    "            'stage1_fail', \n",
    "            'stage1_time',\n",
    "            'stage2_fail', \n",
    "            'stage2_time',\n",
    "            'stage3_fail',\n",
    "            ])\n",
    "        \n",
    "        # add stage4 column because not present those years\n",
    "        df_anw['stage4_fail'] = np.NaN\n",
    "        \n",
    "    else: \n",
    "        df_anw = pd.DataFrame(data[2:], columns=[\n",
    "            'fantasy_points', \n",
    "            'city_q_fail', \n",
    "            'city_q_time',\n",
    "            'city_f_fail', \n",
    "            'city_f_time',\n",
    "            'stage1_fail', \n",
    "            'stage1_time',\n",
    "            'stage2_fail', \n",
    "            'stage2_time',\n",
    "            'stage3_fail',\n",
    "            'stage4_fail'\n",
    "            ])\n",
    "        \n",
    "    # add year column\n",
    "    df_anw['year'] = year\n",
    "    \n",
    "    # add contestant column\n",
    "    df_contestants = pd.DataFrame(data_contestants[2:], columns=['contestant'])\n",
    "    \n",
    "    df_combined = df_anw.join(df_contestants, how = \"outer\")\n",
    "   \n",
    "    # append the year's results to existing dataframe\n",
    "    df = pd.concat([df, df_combined])\n",
    "\n",
    "df.tail()"
   ]
  },
  {
   "cell_type": "code",
   "execution_count": null,
   "metadata": {},
   "outputs": [],
   "source": [
    "df.info()"
   ]
  },
  {
   "cell_type": "markdown",
   "metadata": {},
   "source": [
    "## Clean contestant obstacle failure data"
   ]
  },
  {
   "cell_type": "markdown",
   "metadata": {},
   "source": [
    "Let's lowercase everything. "
   ]
  },
  {
   "cell_type": "code",
   "execution_count": null,
   "metadata": {},
   "outputs": [],
   "source": [
    "string_cols = list(df.select_dtypes(include=['object']).columns)\n",
    "string_cols\n",
    "\n",
    "for col in string_cols:\n",
    "    df[col] = df[col].str.lower()\n",
    "df.head()"
   ]
  },
  {
   "cell_type": "code",
   "execution_count": null,
   "metadata": {},
   "outputs": [],
   "source": [
    "df.info()"
   ]
  },
  {
   "cell_type": "markdown",
   "metadata": {},
   "source": [
    "## Initial Observations\n",
    "Finally, time to have a look around. Initial question:\n",
    "\n",
    "How many people are repeat contestants (over years 4 to 10)?"
   ]
  },
  {
   "cell_type": "code",
   "execution_count": null,
   "metadata": {},
   "outputs": [],
   "source": [
    "df.contestant.value_counts()"
   ]
  },
  {
   "cell_type": "markdown",
   "metadata": {},
   "source": [
    "Let's make the *fantasy_points* column numeric so we can do more meaningful things with it."
   ]
  },
  {
   "cell_type": "code",
   "execution_count": null,
   "metadata": {},
   "outputs": [],
   "source": [
    "df['fantasy_points'] = pd.to_numeric(df['fantasy_points'])\n",
    "df.info()"
   ]
  },
  {
   "cell_type": "markdown",
   "metadata": {},
   "source": [
    "Quite a few folks are repeaters. Let's make a histogram by count with the pandas matplotlib API."
   ]
  },
  {
   "cell_type": "code",
   "execution_count": null,
   "metadata": {},
   "outputs": [],
   "source": [
    "df.contestant.value_counts().hist()\n",
    "plt.title(\"Few Contestants Were in Multiple of these Competitions\")\n",
    "plt.ylabel(\"Contestants\")\n",
    "plt.xlabel(\"Competitions\")"
   ]
  },
  {
   "cell_type": "markdown",
   "metadata": {},
   "source": [
    "Let's make the same chart in Seaborn just for fun and improved visualization."
   ]
  },
  {
   "cell_type": "code",
   "execution_count": null,
   "metadata": {},
   "outputs": [],
   "source": [
    "counters = df.contestant.value_counts()\n",
    "sns.distplot(counters, kde=False)\n",
    "plt.title(\"Few Contestants Were in Multiple of these Competitions\")\n",
    "plt.ylabel(\"Contestants\")\n",
    "plt.xlabel(\"Competitions\")"
   ]
  },
  {
   "cell_type": "markdown",
   "metadata": {},
   "source": [
    "Looks like maybe a slight improvement in clarity. \n",
    "\n",
    "We can see that the vast majority of folks who competed over these seven seasons only competed in one season. Very few folks are out at the tail of this positively skewed distribution."
   ]
  },
  {
   "cell_type": "markdown",
   "metadata": {},
   "source": [
    "Let's group by individual counts and see what the count data look like for the leaders."
   ]
  },
  {
   "cell_type": "code",
   "execution_count": null,
   "metadata": {},
   "outputs": [],
   "source": [
    "df_cons = df.groupby(['contestant']).count()"
   ]
  },
  {
   "cell_type": "code",
   "execution_count": null,
   "metadata": {},
   "outputs": [],
   "source": [
    "df_cons.head()"
   ]
  },
  {
   "cell_type": "markdown",
   "metadata": {},
   "source": [
    "Sort the "
   ]
  },
  {
   "cell_type": "code",
   "execution_count": null,
   "metadata": {},
   "outputs": [],
   "source": [
    "df_cons_sorted = df_cons.sort_values(by=\"fantasy_points\", ascending=False)\n",
    "df_cons_sorted.head(20)"
   ]
  },
  {
   "cell_type": "markdown",
   "metadata": {},
   "source": [
    "Looks like almost no one makes it to stage 4. Strange there isn't a time column for stage 3. "
   ]
  },
  {
   "cell_type": "markdown",
   "metadata": {},
   "source": [
    "## Fantasy Points\n",
    "\n",
    "What are those fantasy points anyway? According to the [website](http://www.anwfantasy.com/how-to-play/), points are scored as follows.\n",
    "\n",
    "    1 point for every obstacle cleared!\n",
    "\n",
    "    2 points for City Qualifier course clear\n",
    "    4 points for City Finals course clears\n",
    "    4 points for Midoriyama/Las Vegas Stage 1 clears\n",
    "    6 points for Midoriyama/Las Vegas Stage 2 clears\n",
    "    8 points for Midoriyama/Las Vegas Stage 3 clears\n",
    "    10 points for Total Victory\n",
    "    Additonally a 0.5 point bonus is awarded to the fastest runner for each timed stage\n",
    "\n",
    "    For example Geoff Britten's \"Perfect Season\" is scored:\n",
    "    • 2pts for City Qualifier cleared + 6 obstacles cleared +\n",
    "    • 4pts for City Finals cleared + 10 obstacles cleared (+0.5 fastest bonus) +\n",
    "    • 4pts for Stage 1 cleared + 8 obstacles cleared +\n",
    "    • 6pts for Stage 2 cleared + 6 obstacles cleared (+0.5 fastest bonus) +\n",
    "    • 8pts for Stage 3 cleared + 8 obstacles cleared +\n",
    "    • 10pts for Stage 4 cleared + 1 obstacle cleared =\n",
    "    74 total points!"
   ]
  },
  {
   "cell_type": "markdown",
   "metadata": {},
   "source": [
    "Interesting. So there's a small time component in those scores, but mostly its about clearing obstacles and stages.\n",
    "\n",
    "Let's total the contestant's fantasy points over all time and sort to see who has the most. We need to reset the index so we keep the fantasy_points as a column."
   ]
  },
  {
   "cell_type": "code",
   "execution_count": null,
   "metadata": {},
   "outputs": [],
   "source": [
    "df_fantasy = df.groupby(['contestant']).sum().sort_values(by=\"fantasy_points\", ascending=False).reset_index()\n",
    "df.head()"
   ]
  },
  {
   "cell_type": "markdown",
   "metadata": {},
   "source": [
    "Let's drop the year column that comes along for the groupby ride."
   ]
  },
  {
   "cell_type": "code",
   "execution_count": null,
   "metadata": {},
   "outputs": [],
   "source": [
    "df_fantasy.drop('year', axis='columns', inplace=True)"
   ]
  },
  {
   "cell_type": "code",
   "execution_count": null,
   "metadata": {},
   "outputs": [],
   "source": [
    "df_fantasy.head(10)"
   ]
  },
  {
   "cell_type": "code",
   "execution_count": null,
   "metadata": {},
   "outputs": [],
   "source": [
    "df_fantasy.info()"
   ]
  },
  {
   "cell_type": "markdown",
   "metadata": {},
   "source": [
    "Let's make a little chart of the top 20 folks."
   ]
  },
  {
   "cell_type": "code",
   "execution_count": null,
   "metadata": {},
   "outputs": [],
   "source": [
    "df_fantasy['fantasy_points'] = pd.to_numeric(df_fantasy['fantasy_points'])\n",
    "df_fantasy.info()"
   ]
  },
  {
   "cell_type": "code",
   "execution_count": null,
   "metadata": {},
   "outputs": [],
   "source": [
    "sns.catplot(x='contestant', y='fantasy_points', data=df_fantasy.head(40))\n",
    "plt.title(\"Overall Fantasy Point Winners\")\n",
    "plt.ylabel(\"Points\")\n",
    "plt.xlabel(\"Contestant\")"
   ]
  },
  {
   "cell_type": "markdown",
   "metadata": {},
   "source": [
    "It's a bit tricky to read the names of top 40 fantasy scorers, eh? The plotly library does a nicer job of auto-formatting the text. Let's rotate the name vertically."
   ]
  },
  {
   "cell_type": "code",
   "execution_count": null,
   "metadata": {},
   "outputs": [],
   "source": [
    "sns.catplot(x='contestant', y='fantasy_points', data=df_fantasy.head(40))\n",
    "plt.title(\"Overall Fantasy Point Winners\")\n",
    "plt.ylabel(\"Points\")\n",
    "plt.xlabel(\"Contestant\")\n",
    "plt.xticks(rotation=-90)"
   ]
  },
  {
   "cell_type": "markdown",
   "metadata": {},
   "source": [
    "Better. But we still need a wider figure."
   ]
  },
  {
   "cell_type": "code",
   "execution_count": null,
   "metadata": {},
   "outputs": [],
   "source": [
    "sns.catplot(x='contestant', y='fantasy_points', data=df_fantasy.head(40), height=8, aspect=11/8)\n",
    "plt.title(\"Overall Fantasy Point Winners\")\n",
    "plt.ylabel(\"Points\")\n",
    "plt.xlabel(\"Contestant\")\n",
    "plt.xticks(rotation=-90)"
   ]
  },
  {
   "cell_type": "markdown",
   "metadata": {},
   "source": [
    "Ah, much nicer. And we should capitalize the first letter of each name too. The Pandas string method *capitalize* is what we want."
   ]
  },
  {
   "cell_type": "code",
   "execution_count": null,
   "metadata": {},
   "outputs": [],
   "source": [
    "df_fantasy['contestant'] = df_fantasy['contestant'].str.title()"
   ]
  },
  {
   "cell_type": "code",
   "execution_count": null,
   "metadata": {},
   "outputs": [],
   "source": [
    "sns.catplot(x='contestant', y='fantasy_points', data=df_fantasy.head(40), height=8, aspect=11/8)\n",
    "plt.title(\"Overall Fantasy Point Winners\")\n",
    "plt.ylabel(\"Points\")\n",
    "plt.xlabel(\"Contestant\")\n",
    "plt.xticks(rotation=-90)"
   ]
  },
  {
   "cell_type": "markdown",
   "metadata": {},
   "source": [
    "## Wrap and Future Directions\n",
    "\n",
    "In this Juptyer notebook you saw how to scrape data from a website and read it into a Pandas DataFrame in tidy data format. You saw how to manipulate the data to get information out of it and how to visualize the data.\n",
    "\n",
    "There are several ways you could extend this project.\n",
    "\n",
    "You could try to use historical fantasy points to predict future performance. \n",
    "\n",
    "Maybe a decrease in fantasy points over time tells us a compeitor is unlikely to advance further in future rounds. You could feature engineer a column for change in fantasy points over time.\n",
    "\n",
    "It might also be interesting to try to predict contestant success with more contestant data. For example, it would be great to have additional demographic data (e.g. age, height, weight, career) and athletic performance data (e.g. vertical jump, max squat, 40yd sprint time), but I don't believe such data exists. \n",
    "\n",
    "Were the contestants who made it through obstacles the fastest more likely to go further in the competition? \n",
    "\n",
    "Finally, it might be fruitful to combine obstacle information with contestant data to try to predict contestant success.\n",
    "\n",
    "## If you found this Kernel intersting or helpful please upvote it so that other people can find it too."
   ]
  }
 ],
 "metadata": {
  "kernelspec": {
   "display_name": "Python 3",
   "language": "python",
   "name": "python3"
  },
  "language_info": {
   "codemirror_mode": {
    "name": "ipython",
    "version": 3
   },
   "file_extension": ".py",
   "mimetype": "text/x-python",
   "name": "python",
   "nbconvert_exporter": "python",
   "pygments_lexer": "ipython3",
   "version": "3.6.6"
  }
 },
 "nbformat": 4,
 "nbformat_minor": 2
}
